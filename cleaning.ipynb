{
 "cells": [
  {
   "cell_type": "code",
   "execution_count": 1,
   "id": "0e2bed47",
   "metadata": {},
   "outputs": [],
   "source": [
    "import pandas as pd"
   ]
  },
  {
   "cell_type": "code",
   "execution_count": 2,
   "id": "6fa21152",
   "metadata": {},
   "outputs": [],
   "source": [
    "movie=pd.read_csv('movie.csv')\n",
    "rating=pd.read_csv('rating.csv')\n",
    "tag=pd.read_csv('tag.csv')"
   ]
  },
  {
   "cell_type": "code",
   "execution_count": 4,
   "id": "15a3e01f",
   "metadata": {},
   "outputs": [
    {
     "name": "stdout",
     "output_type": "stream",
     "text": [
      "(27278, 3)\n",
      "(1048575, 4)\n",
      "(465426, 4)\n"
     ]
    }
   ],
   "source": [
    "print(movie.shape)\n",
    "print(rating.shape)\n",
    "print(tag.shape)"
   ]
  },
  {
   "cell_type": "code",
   "execution_count": 3,
   "id": "fce39599",
   "metadata": {},
   "outputs": [
    {
     "name": "stdout",
     "output_type": "stream",
     "text": [
      "movieId      0\n",
      "title      203\n",
      "genres      36\n",
      "dtype: int64\n",
      "userId        13\n",
      "movieId       22\n",
      "rating        22\n",
      "timestamp    160\n",
      "dtype: int64\n",
      "userId        0\n",
      "movieId      29\n",
      "tag          37\n",
      "timestamp     0\n",
      "dtype: int64\n"
     ]
    }
   ],
   "source": [
    "print(movie.isnull().sum())\n",
    "print(rating.isnull().sum())\n",
    "print(tag.isnull().sum())"
   ]
  },
  {
   "cell_type": "code",
   "execution_count": 7,
   "id": "44bc8749",
   "metadata": {},
   "outputs": [
    {
     "name": "stdout",
     "output_type": "stream",
     "text": [
      "0\n",
      "0\n",
      "0\n"
     ]
    }
   ],
   "source": [
    "print(movie.duplicated().sum())\n",
    "print(rating.duplicated().sum())\n",
    "print(tag.duplicated().sum())"
   ]
  },
  {
   "cell_type": "code",
   "execution_count": 8,
   "id": "4e10df80",
   "metadata": {},
   "outputs": [],
   "source": [
    "movie = movie.dropna()\n",
    "rating = rating.dropna()\n",
    "tag = tag.dropna()"
   ]
  },
  {
   "cell_type": "code",
   "execution_count": 6,
   "id": "3031e586",
   "metadata": {},
   "outputs": [
    {
     "name": "stdout",
     "output_type": "stream",
     "text": [
      "movieId    0\n",
      "title      0\n",
      "genres     0\n",
      "dtype: int64\n",
      "userId       0\n",
      "movieId      0\n",
      "rating       0\n",
      "timestamp    0\n",
      "dtype: int64\n",
      "userId       0\n",
      "movieId      0\n",
      "tag          0\n",
      "timestamp    0\n",
      "dtype: int64\n"
     ]
    }
   ],
   "source": [
    "print(movie.isnull().sum())\n",
    "print(rating.isnull().sum())\n",
    "print(tag.isnull().sum())"
   ]
  },
  {
   "cell_type": "code",
   "execution_count": 9,
   "id": "25cfe455",
   "metadata": {},
   "outputs": [],
   "source": [
    "movie.to_csv('movie_cleaned.csv', index=False)\n",
    "rating.to_csv('rating_cleaned.csv', index=False)\n",
    "tag.to_csv('tag_cleaned.csv', index=False)"
   ]
  }
 ],
 "metadata": {
  "kernelspec": {
   "display_name": "Python 3",
   "language": "python",
   "name": "python3"
  },
  "language_info": {
   "codemirror_mode": {
    "name": "ipython",
    "version": 3
   },
   "file_extension": ".py",
   "mimetype": "text/x-python",
   "name": "python",
   "nbconvert_exporter": "python",
   "pygments_lexer": "ipython3",
   "version": "3.10.12"
  }
 },
 "nbformat": 4,
 "nbformat_minor": 5
}
